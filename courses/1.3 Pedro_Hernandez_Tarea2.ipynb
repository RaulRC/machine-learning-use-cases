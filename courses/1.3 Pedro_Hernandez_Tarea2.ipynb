{
 "cells": [
  {
   "cell_type": "markdown",
   "metadata": {},
   "source": [
    "# Números Aleatorios"
   ]
  },
  {
   "cell_type": "markdown",
   "metadata": {},
   "source": [
    "## Genera k Números aleatorios del 1 al n y clasifica en categorias"
   ]
  },
  {
   "cell_type": "markdown",
   "metadata": {},
   "source": [
    "1) Número de aleatorios a generar y rango"
   ]
  },
  {
   "cell_type": "code",
   "execution_count": 183,
   "metadata": {
    "collapsed": true
   },
   "outputs": [],
   "source": [
    "k=40\n",
    "n=100"
   ]
  },
  {
   "cell_type": "code",
   "execution_count": 184,
   "metadata": {
    "collapsed": false
   },
   "outputs": [],
   "source": [
    "from random import *  \n",
    "aleatorios=[randint(1,n) for j in range(k)]"
   ]
  },
  {
   "cell_type": "code",
   "execution_count": 185,
   "metadata": {
    "collapsed": false,
    "scrolled": true
   },
   "outputs": [
    {
     "name": "stdout",
     "output_type": "stream",
     "text": [
      "[50, 22, 36, 28, 96, 9, 62, 51, 35, 33, 65, 60, 95, 4, 42, 42, 93, 80, 33, 12, 50, 42, 20, 44, 4, 38, 19, 70, 67, 52, 70, 57, 83, 8, 63, 13, 75, 10, 1, 37]\n"
     ]
    }
   ],
   "source": [
    "print aleatorios"
   ]
  },
  {
   "cell_type": "markdown",
   "metadata": {},
   "source": [
    "2) Se crea un directorio con las categorias "
   ]
  },
  {
   "cell_type": "code",
   "execution_count": 186,
   "metadata": {
    "collapsed": false
   },
   "outputs": [],
   "source": [
    "categorias=dict([\n",
    "              ('bajo',range(1,n/3)),\n",
    "              ('medio',range(n/3,n*2/3)),\n",
    "              ('alto',range(n*2/3,n)) \n",
    "                ])"
   ]
  },
  {
   "cell_type": "code",
   "execution_count": 187,
   "metadata": {
    "collapsed": false,
    "scrolled": true
   },
   "outputs": [
    {
     "name": "stdout",
     "output_type": "stream",
     "text": [
      "['alto', 'bajo', 'medio']\n",
      "[[66, 67, 68, 69, 70, 71, 72, 73, 74, 75, 76, 77, 78, 79, 80, 81, 82, 83, 84, 85, 86, 87, 88, 89, 90, 91, 92, 93, 94, 95, 96, 97, 98, 99], [1, 2, 3, 4, 5, 6, 7, 8, 9, 10, 11, 12, 13, 14, 15, 16, 17, 18, 19, 20, 21, 22, 23, 24, 25, 26, 27, 28, 29, 30, 31, 32], [33, 34, 35, 36, 37, 38, 39, 40, 41, 42, 43, 44, 45, 46, 47, 48, 49, 50, 51, 52, 53, 54, 55, 56, 57, 58, 59, 60, 61, 62, 63, 64, 65]]\n"
     ]
    }
   ],
   "source": [
    "print categ.keys()\n",
    "print categ.values()"
   ]
  },
  {
   "cell_type": "code",
   "execution_count": 188,
   "metadata": {
    "collapsed": true
   },
   "outputs": [],
   "source": [
    "keycateg=categ.keys()\n",
    "valcateg=categ.values()"
   ]
  },
  {
   "cell_type": "markdown",
   "metadata": {},
   "source": [
    "3) Se asigna la categoría correspondiente a cada número aleatorio"
   ]
  },
  {
   "cell_type": "code",
   "execution_count": 189,
   "metadata": {
    "collapsed": false
   },
   "outputs": [
    {
     "name": "stdout",
     "output_type": "stream",
     "text": [
      "medio\n",
      "bajo\n",
      "medio\n",
      "bajo\n",
      "alto\n",
      "bajo\n",
      "medio\n",
      "medio\n",
      "medio\n",
      "medio\n",
      "medio\n",
      "medio\n",
      "alto\n",
      "bajo\n",
      "medio\n",
      "medio\n",
      "alto\n",
      "alto\n",
      "medio\n",
      "bajo\n",
      "medio\n",
      "medio\n",
      "bajo\n",
      "medio\n",
      "bajo\n",
      "medio\n",
      "bajo\n",
      "alto\n",
      "alto\n",
      "medio\n",
      "alto\n",
      "medio\n",
      "alto\n",
      "bajo\n",
      "medio\n",
      "bajo\n",
      "alto\n",
      "bajo\n",
      "bajo\n",
      "medio\n"
     ]
    }
   ],
   "source": [
    "for i in aleatorios:\n",
    "    if i in valcateg[0]:\n",
    "        print keycateg[0]\n",
    "    elif i in valcateg[1]:\n",
    "        print keycateg[1]\n",
    "    else:\n",
    "        print keycateg[2]\n",
    "    i = i +1"
   ]
  }
 ],
 "metadata": {
  "kernelspec": {
   "display_name": "Python 2",
   "language": "python",
   "name": "python2"
  },
  "language_info": {
   "codemirror_mode": {
    "name": "ipython",
    "version": 2
   },
   "file_extension": ".py",
   "mimetype": "text/x-python",
   "name": "python",
   "nbconvert_exporter": "python",
   "pygments_lexer": "ipython2",
   "version": "2.7.10"
  }
 },
 "nbformat": 4,
 "nbformat_minor": 0
}
