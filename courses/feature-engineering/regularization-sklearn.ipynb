{
 "cells": [
  {
   "cell_type": "markdown",
   "metadata": {},
   "source": [
    "###Regresión Iterativa con Regularización"
   ]
  },
  {
   "cell_type": "code",
   "execution_count": 1,
   "metadata": {
    "collapsed": true
   },
   "outputs": [],
   "source": [
    "from sklearn.cross_validation import train_test_split\n",
    "import matplotlib.pyplot as plt\n",
    "from sklearn import preprocessing as pp\n",
    "import csv\n",
    "import pandas as pd\n",
    "import numpy as np\n",
    "import random as rnd\n",
    "%matplotlib inline"
   ]
  },
  {
   "cell_type": "markdown",
   "metadata": {},
   "source": [
    "#### 1) Se cargan el set de datos y se asigna el porcentaje de entrenamiento"
   ]
  },
  {
   "cell_type": "code",
   "execution_count": 2,
   "metadata": {
    "collapsed": false
   },
   "outputs": [
    {
     "name": "stdout",
     "output_type": "stream",
     "text": [
      "           X           X2        X3        X4            y\n",
      "0   7.317938    53.552216  1.683319  0.859736    20.716319\n",
      "1   1.284357     1.649574  3.395139  0.959256     8.098008\n",
      "2  97.740652  9553.235088  0.366480 -0.344100  5992.603427\n",
      "3  17.753591   315.190006 -1.945300 -0.889370   199.959361\n",
      "4  66.441081  4414.417290  0.504995 -0.450777  2384.624168\n",
      "                 X           X2           X3           X4            y\n",
      "count  1029.000000  1029.000000  1029.000000  1029.000000  1029.000000\n",
      "mean     48.052380  3113.669342    -2.038734    -0.011250  1930.580335\n",
      "std      28.379936  2891.956247    42.569126     0.717016  1780.286709\n",
      "min       0.006314     0.000040 -1302.068992    -0.999993     0.413908\n",
      "25%      23.174764   537.069691    -1.112964    -0.731530   362.961744\n",
      "50%      47.655827  2271.077831    -0.026429    -0.046938  1419.544225\n",
      "75%      71.372550  5094.040863     0.987838     0.732296  3131.147903\n",
      "max      99.873062  9974.628610    81.923095     1.000000  7018.336053\n"
     ]
    }
   ],
   "source": [
    "data = pd.read_csv(\"extraversion.csv\")\n",
    "print(data.head())\n",
    "print(data.describe())"
   ]
  },
  {
   "cell_type": "code",
   "execution_count": 3,
   "metadata": {
    "collapsed": false
   },
   "outputs": [
    {
     "name": "stdout",
     "output_type": "stream",
     "text": [
      "771 258\n"
     ]
    }
   ],
   "source": [
    "X_train, X_test, Y_train, Y_test = train_test_split(data[['X','X2','X3','X4']],data[['y']], train_size=.75)\n",
    "print len(X_train), len(X_test)"
   ]
  },
  {
   "cell_type": "markdown",
   "metadata": {},
   "source": [
    "#### 2) Transformación de los datos"
   ]
  },
  {
   "cell_type": "code",
   "execution_count": 4,
   "metadata": {
    "collapsed": false
   },
   "outputs": [
    {
     "name": "stdout",
     "output_type": "stream",
     "text": [
      "          0         1         2         3\n",
      "0  0.362566  0.095760  0.655465  1.431288\n",
      "1  0.524693  0.287442  0.040532 -0.119432\n",
      "2 -0.401830 -0.609896 -0.142551 -1.347614\n",
      "3 -1.259386 -1.012523  0.019938 -0.994448\n",
      "4 -1.047648 -0.951357  0.005198 -1.182286\n"
     ]
    }
   ],
   "source": [
    "X_scaler = pp.StandardScaler().fit(X_train)\n",
    "X_scaled = pd.DataFrame(X_scaler.transform(X_train))\n",
    "print X_scaled.head()"
   ]
  },
  {
   "cell_type": "code",
   "execution_count": 5,
   "metadata": {
    "collapsed": false
   },
   "outputs": [
    {
     "name": "stdout",
     "output_type": "stream",
     "text": [
      "          0\n",
      "0  0.143872\n",
      "1  0.347150\n",
      "2 -0.566762\n",
      "3 -1.017345\n",
      "4 -0.985436\n"
     ]
    }
   ],
   "source": [
    "Y_scaler = pp.StandardScaler().fit(Y_train)\n",
    "Y_scaled = pd.DataFrame(Y_scaler.transform(Y_train))\n",
    "print Y_scaled.head()"
   ]
  },
  {
   "cell_type": "markdown",
   "metadata": {},
   "source": [
    "#### 3) Se definen las funciones entrena (con regularicación lambda) y el actualizador de las w's"
   ]
  },
  {
   "cell_type": "code",
   "execution_count": 6,
   "metadata": {
    "collapsed": false,
    "scrolled": true
   },
   "outputs": [],
   "source": [
    "def actualizador (w0, W, x_i):\n",
    "    weight = w0\n",
    "    for i in range(len(W)):\n",
    "        weight = weight + (W[i] * x_i[i])\n",
    "    return weight"
   ]
  },
  {
   "cell_type": "code",
   "execution_count": 7,
   "metadata": {
    "collapsed": false
   },
   "outputs": [],
   "source": [
    "def entrena(w0, W, X, Y, eta, lam):\n",
    "    for i in range(len(X)):\n",
    "        x_i = X.iloc[i]\n",
    "        y_hat = actualizador(w0, W, x_i)\n",
    "        error = Y.iloc[i] - y_hat\n",
    "        w0 = w0 + eta * error \n",
    "        for j in range(len(x_i)):\n",
    "            W[j] = W[j] + (eta * error * X.iloc[i][j]) - (lam * W[j])\n",
    "    return w0, W"
   ]
  },
  {
   "cell_type": "markdown",
   "metadata": {},
   "source": [
    "####4) Valores iniciales para las iteraciones"
   ]
  },
  {
   "cell_type": "code",
   "execution_count": 8,
   "metadata": {
    "collapsed": false
   },
   "outputs": [],
   "source": [
    "w0 = 0\n",
    "W = [rnd.random(),rnd.random(),rnd.random(),rnd.random()]\n",
    "eta = 0.001\n",
    "lam = np.arange(0.00,0.01,0.001)"
   ]
  },
  {
   "cell_type": "code",
   "execution_count": 141,
   "metadata": {
    "collapsed": false
   },
   "outputs": [
    {
     "name": "stdout",
     "output_type": "stream",
     "text": [
      "(0, [0.666784864547979, 0.4866099726432135, 0.25863053745943265, 0.3206822662543932], 0.001, array([ 0.   ,  0.001,  0.002,  0.003,  0.004,  0.005,  0.006,  0.007,\n",
      "        0.008,  0.009]))\n"
     ]
    }
   ],
   "source": [
    "print (w0,W,eta,lam)"
   ]
  },
  {
   "cell_type": "markdown",
   "metadata": {},
   "source": [
    "####5) Iteramos los errores en el recorrido de lambda"
   ]
  },
  {
   "cell_type": "code",
   "execution_count": 9,
   "metadata": {
    "collapsed": false
   },
   "outputs": [],
   "source": [
    "errores = []\n",
    "\n",
    "for i in range(len(lam)):\n",
    "    new_w = entrena(w0, W, X_scaled, Y_scaled, eta, lam[i])\n",
    "    Y_hat = new_w[0]+X_scaled[0]*new_w[1][0]+X_scaled[1]*new_w[1][1]+X_scaled[2]*new_w[1][2]+X_scaled[3]*new_w[1][3]\n",
    "    Y_hat = pd.DataFrame(Y_hat)\n",
    "    error = np.mean((Y_scaled - Y_hat) ** 2)\n",
    "    errores.insert(i, error)"
   ]
  },
  {
   "cell_type": "markdown",
   "metadata": {},
   "source": [
    "####6) Visualización de los errores"
   ]
  },
  {
   "cell_type": "code",
   "execution_count": 148,
   "metadata": {
    "collapsed": false
   },
   "outputs": [
    {
     "name": "stdout",
     "output_type": "stream",
     "text": [
      "('errores', [0    0.062182\n",
      "dtype: float64, 0    0.014856\n",
      "dtype: float64, 0    0.118118\n",
      "dtype: float64, 0    0.21578\n",
      "dtype: float64, 0    0.292752\n",
      "dtype: float64, 0    0.354134\n",
      "dtype: float64, 0    0.403967\n",
      "dtype: float64, 0    0.445091\n",
      "dtype: float64, 0    0.479521\n",
      "dtype: float64, 0    0.50871\n",
      "dtype: float64])\n"
     ]
    },
    {
     "data": {
      "image/png": "[encoded data removed]",
      "text/plain": [
       "<matplotlib.figure.Figure at 0x107cbd310>"
      ]
     },
     "metadata": {},
     "output_type": "display_data"
    }
   ],
   "source": [
    "print(\"errores\",errores)\n",
    "plt.scatter(lam, errores, color = 'black')\n",
    "plt.plot(lam, errores, color = 'orange')\n",
    "plt.grid()\n",
    "plt.show()"
   ]
  },
  {
   "cell_type": "code",
   "execution_count": 149,
   "metadata": {
    "collapsed": false
   },
   "outputs": [
    {
     "data": {
      "text/plain": [
       "<matplotlib.collections.PathCollection at 0x109ac3850>"
      ]
     },
     "execution_count": 149,
     "metadata": {},
     "output_type": "execute_result"
    },
    {
     "data": {
      "image/png": "[encoded data removed]",
      "text/plain": [
       "<matplotlib.figure.Figure at 0x10182a710>"
      ]
     },
     "metadata": {},
     "output_type": "display_data"
    }
   ],
   "source": [
    "plt.scatter(X_scaled[0], Y_scaled[0], color='black')"
   ]
  }
 ],
 "metadata": {
  "kernelspec": {
   "display_name": "Python 3",
   "language": "python",
   "name": "python3"
  },
  "language_info": {
   "codemirror_mode": {
    "name": "ipython",
    "version": 3
   },
   "file_extension": ".py",
   "mimetype": "text/x-python",
   "name": "python",
   "nbconvert_exporter": "python",
   "pygments_lexer": "ipython3",
   "version": "3.5.4"
  }
 },
 "nbformat": 4,
 "nbformat_minor": 2
}
